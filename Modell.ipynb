{
 "cells": [
  {
   "cell_type": "code",
   "execution_count": 1,
   "metadata": {},
   "outputs": [
    {
     "name": "stderr",
     "output_type": "stream",
     "text": [
      "c:\\Users\\adqwr\\AppData\\Local\\Programs\\Python\\Python312\\Lib\\site-packages\\tqdm\\auto.py:21: TqdmWarning: IProgress not found. Please update jupyter and ipywidgets. See https://ipywidgets.readthedocs.io/en/stable/user_install.html\n",
      "  from .autonotebook import tqdm as notebook_tqdm\n"
     ]
    },
    {
     "name": "stdout",
     "output_type": "stream",
     "text": [
      "WARNING:tensorflow:From c:\\Users\\adqwr\\AppData\\Local\\Programs\\Python\\Python312\\Lib\\site-packages\\tf_keras\\src\\losses.py:2976: The name tf.losses.sparse_softmax_cross_entropy is deprecated. Please use tf.compat.v1.losses.sparse_softmax_cross_entropy instead.\n",
      "\n"
     ]
    },
    {
     "name": "stderr",
     "output_type": "stream",
     "text": [
      "You are using the default legacy behaviour of the <class 'transformers.models.t5.tokenization_t5.T5Tokenizer'>. This is expected, and simply means that the `legacy` (previous) behavior will be used so nothing changes for you. If you want to use the new behaviour, set `legacy=False`. This should only be set if you understand what it means, and thoroughly read the reason why this was added as explained in https://github.com/huggingface/transformers/pull/24565\n",
      "Special tokens have been added in the vocabulary, make sure the associated word embeddings are fine-tuned or trained.\n"
     ]
    },
    {
     "name": "stdout",
     "output_type": "stream",
     "text": [
      "WARNING:tensorflow:From c:\\Users\\adqwr\\AppData\\Local\\Programs\\Python\\Python312\\Lib\\site-packages\\tf_keras\\src\\backend.py:873: The name tf.get_default_graph is deprecated. Please use tf.compat.v1.get_default_graph instead.\n",
      "\n"
     ]
    },
    {
     "name": "stderr",
     "output_type": "stream",
     "text": [
      "All PyTorch model weights were used when initializing TFT5ForConditionalGeneration.\n",
      "\n",
      "All the weights of TFT5ForConditionalGeneration were initialized from the PyTorch model.\n",
      "If your task is similar to the task the model of the checkpoint was trained on, you can already use TFT5ForConditionalGeneration for predictions without further training.\n"
     ]
    },
    {
     "name": "stdout",
     "output_type": "stream",
     "text": [
      "Tokenizer und Modell erfolgreich geladen.\n"
     ]
    }
   ],
   "source": [
    "# Importieren der benötigten Bibliotheken\n",
    "from transformers import T5Tokenizer, TFT5ForConditionalGeneration\n",
    "\n",
    "# Initialisierung des Tokenizers und des Modells\n",
    "tokenizer = T5Tokenizer.from_pretrained('t5-small')\n",
    "model = TFT5ForConditionalGeneration.from_pretrained('t5-small')\n",
    "\n",
    "# Überprüfung, ob Tokenizer und Modell erfolgreich geladen wurden\n",
    "print(\"Tokenizer und Modell erfolgreich geladen.\")\n"
   ]
  },
  {
   "cell_type": "code",
   "execution_count": 2,
   "metadata": {},
   "outputs": [
    {
     "name": "stdout",
     "output_type": "stream",
     "text": [
      "Ich ziehe auf die Schlussfolgerung, dass das virtuelle Erbe nicht auf die gleichen Ergebnisse abzielt wie ernsthafte Spiele an sich, und obwohl alle diese Fragen auch für andere Arten von er. Daher könnten virtuelle Erbespiele immer noch ernsthafte Spiele sein (und. in der Tat beinhaltet Kultur selbst sowohl Unterhaltung im Allgemeinen als auch Spiele im Besonderen) aber virtuelle Erbespiele haben besondere Anforderungen, die nicht mit typischen seriösen Spielen geteilt werden.. Zweitens habe ich argumentiert, dass, obwohl Unterhaltungsmedien Risiken für das primäre Ziel des virtuellen Erbes darstellen, es möglich ist, dass das virtuelle Erbe unterhalt. Denn virtuelle Erbespiele müssen sowohl pädagogisch als auch unterhaltsam sein, wenn sie ihr beabsichtigtes Publikum fesseln, informieren, unterrichten oder inspirieren wollen.\n"
     ]
    }
   ],
   "source": [
    "filename = 'input.txt'\n",
    "try:\n",
    "    with open(filename, 'r', encoding='utf-8') as file:\n",
    "        text_to_translate = file.read()\n",
    "except FileNotFoundError:\n",
    "    print(f\"Die Datei {filename} konnte nicht gefunden werden. Bitte überprüfe den Pfad.\")\n",
    "\n",
    "# Text in Sätze teilen\n",
    "sentences = text_to_translate.split('. ')\n",
    "\n",
    "# Übersetzen der Sätze\n",
    "translated_sentences = []\n",
    "for sentence in sentences:\n",
    "    if len(sentence.strip()) > 0:\n",
    "        input_text = f\"translate English to German: {sentence.strip()}\"\n",
    "        inputs = tokenizer(input_text, return_tensors=\"tf\")\n",
    "        output_sequences = model.generate(\n",
    "            input_ids=inputs['input_ids'],\n",
    "            attention_mask=inputs['attention_mask'],\n",
    "            max_length=50,\n",
    "            num_beams=4,\n",
    "            early_stopping=True\n",
    "        )\n",
    "        translated_text = tokenizer.decode(output_sequences[0], skip_special_tokens=True)\n",
    "        translated_sentences.append(translated_text)\n",
    "\n",
    "# Übersetzten Text anzeigen\n",
    "translated_text = '. '.join(translated_sentences)\n",
    "print(translated_text)\n"
   ]
  }
 ],
 "metadata": {
  "kernelspec": {
   "display_name": "Python 3",
   "language": "python",
   "name": "python3"
  },
  "language_info": {
   "codemirror_mode": {
    "name": "ipython",
    "version": 3
   },
   "file_extension": ".py",
   "mimetype": "text/x-python",
   "name": "python",
   "nbconvert_exporter": "python",
   "pygments_lexer": "ipython3",
   "version": "3.12.3"
  }
 },
 "nbformat": 4,
 "nbformat_minor": 2
}
