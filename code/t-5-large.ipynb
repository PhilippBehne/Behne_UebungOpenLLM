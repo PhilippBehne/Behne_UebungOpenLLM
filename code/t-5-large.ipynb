{
 "cells": [
  {
   "cell_type": "code",
   "execution_count": null,
   "metadata": {},
   "outputs": [],
   "source": [
    "from transformers import T5Tokenizer, T5ForConditionalGeneration\n",
    "\n",
    "# Initialisierung des Tokenizers und des Modells für T5\n",
    "tokenizer = T5Tokenizer.from_pretrained('t5-base')\n",
    "model = T5ForConditionalGeneration.from_pretrained('t5-base')\n",
    "\n",
    "# Überprüfung, ob Tokenizer und Modell erfolgreich geladen wurden\n",
    "print(\"Tokenizer und Modell erfolgreich geladen.\")\n",
    "\n",
    "def translate_text(input_text, max_new_tokens=150):\n",
    "    input_text = f\"translate English to German: {input_text}\"\n",
    "    input_ids = tokenizer(input_text, return_tensors=\"pt\").input_ids\n",
    "    outputs = model.generate(input_ids, max_new_tokens=max_new_tokens)\n",
    "    translated_text = tokenizer.decode(outputs[0], skip_special_tokens=True)\n",
    "    return translated_text\n",
    "\n",
    "# Lesen der Excel-Datei und Übersetzen der Sätze\n",
    "import pandas as pd\n",
    "\n",
    "# Load the Excel file\n",
    "df = pd.read_excel('input.xlsx')\n",
    "\n",
    "# Print the column names for debugging\n",
    "print(\"Column names in the DataFrame:\", df.columns)\n",
    "\n",
    "# Check if the expected column 'English' exists\n",
    "if 'English' in df.columns:\n",
    "    # Perform the translation\n",
    "    df['Translation'] = df['English'].apply(lambda x: translate_text(x))\n",
    "    # Save the translated text to a new Excel file\n",
    "    df.to_excel('output_translated.xlsx', index=False)\n",
    "    print(\"Translations completed and saved.\")\n",
    "else:\n",
    "    print(\"Error: The column 'English' does not exist in the DataFrame.\")\n"
   ]
  }
 ],
 "metadata": {
  "kernelspec": {
   "display_name": "Python 3",
   "language": "python",
   "name": "python3"
  },
  "language_info": {
   "name": "python",
   "version": "3.12.3"
  }
 },
 "nbformat": 4,
 "nbformat_minor": 2
}
