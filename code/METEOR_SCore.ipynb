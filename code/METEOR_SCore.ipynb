{
 "cells": [
  {
   "cell_type": "code",
   "execution_count": 1,
   "metadata": {},
   "outputs": [],
   "source": [
    "import pandas as pd\n",
    "import nltk\n",
    "from nltk.translate.bleu_score import sentence_bleu, SmoothingFunction\n",
    "from nltk.translate.meteor_score import meteor_score\n",
    "\n",
    "# Sicherstellen, dass die METEOR-Resourcen geladen sind\n"
   ]
  },
  {
   "cell_type": "code",
   "execution_count": 6,
   "metadata": {},
   "outputs": [
    {
     "name": "stderr",
     "output_type": "stream",
     "text": [
      "[nltk_data] Downloading package wordnet to\n",
      "[nltk_data]     C:\\Users\\adqwr\\AppData\\Roaming\\nltk_data...\n",
      "[nltk_data]   Package wordnet is already up-to-date!\n",
      "[nltk_data] Downloading package omw-1.4 to\n",
      "[nltk_data]     C:\\Users\\adqwr\\AppData\\Roaming\\nltk_data...\n",
      "[nltk_data]   Package omw-1.4 is already up-to-date!\n"
     ]
    },
    {
     "name": "stdout",
     "output_type": "stream",
     "text": [
      "METEOR-Werte wurden berechnet und gespeichert.\n"
     ]
    }
   ],
   "source": [
    "import pandas as pd\n",
    "from nltk.translate.meteor_score import meteor_score\n",
    "import nltk\n",
    "\n",
    "# Notwendige NLTK-Daten herunterladen\n",
    "nltk.download('wordnet')\n",
    "nltk.download('omw-1.4')\n",
    "\n",
    "# Excel-Datei laden\n",
    "file_path = 'Helsinki.xlsx'\n",
    "df = pd.read_excel(file_path)\n",
    "\n",
    "# METEOR-Werte berechnen und in eine neue Spalte einfügen\n",
    "df['METEOR Score'] = df.apply(lambda row: meteor_score([row['Gold']], row['Test']), axis=1)\n",
    "\n",
    "# Aktualisierte Datei speichern\n",
    "df.to_excel('Helsinki_METEOR.xlsx', index=False)\n",
    "\n",
    "print(\"METEOR-Werte wurden berechnet und gespeichert.\")\n"
   ]
  }
 ],
 "metadata": {
  "kernelspec": {
   "display_name": "Python 3",
   "language": "python",
   "name": "python3"
  },
  "language_info": {
   "codemirror_mode": {
    "name": "ipython",
    "version": 3
   },
   "file_extension": ".py",
   "mimetype": "text/x-python",
   "name": "python",
   "nbconvert_exporter": "python",
   "pygments_lexer": "ipython3",
   "version": "3.12.3"
  }
 },
 "nbformat": 4,
 "nbformat_minor": 2
}
