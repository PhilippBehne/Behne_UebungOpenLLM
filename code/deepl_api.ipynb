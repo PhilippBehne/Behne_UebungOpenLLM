{
 "cells": [
  {
   "cell_type": "code",
   "execution_count": null,
   "metadata": {},
   "outputs": [],
   "source": [
    "import pandas as pd\n",
    "import deepl\n",
    "\n",
    "# DeepL API authentication\n",
    "auth_key = \"92827ec7-7c31-4104-84e7-a5639515904c:fx\"  # Replace with your DeepL API key\n",
    "translator = deepl.Translator(auth_key)\n",
    "\n",
    "# Load the Excel file\n",
    "input_file = 'input.xlsx'\n",
    "df = pd.read_excel(input_file)\n",
    "\n",
    "# Assuming the text to translate is in the first column\n",
    "source_column = df.columns[0]\n",
    "target_column = f'{source_column}_translated'\n",
    "\n",
    "# Translate each text in the source column and store it in the target column\n",
    "df[target_column] = df[source_column].apply(lambda text: translator.translate_text(text, target_lang=\"FR\").text)\n",
    "\n",
    "# Save the updated dataframe to a new Excel file\n",
    "output_file = 'translated_output.xlsx'\n",
    "df.to_excel(output_file, index=False)\n",
    "\n",
    "print(f'Translation completed. The output file is saved as {output_file}.')\n"
   ]
  }
 ],
 "metadata": {
  "kernelspec": {
   "display_name": "Python 3",
   "language": "python",
   "name": "python3"
  },
  "language_info": {
   "name": "python",
   "version": "3.12.3"
  }
 },
 "nbformat": 4,
 "nbformat_minor": 2
}
