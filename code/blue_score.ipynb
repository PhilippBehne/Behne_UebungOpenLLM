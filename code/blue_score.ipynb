{
 "cells": [
  {
   "cell_type": "code",
   "execution_count": null,
   "metadata": {},
   "outputs": [],
   "source": [
    "import pandas as pd\n",
    "from nltk.translate.bleu_score import sentence_bleu, SmoothingFunction \n",
    "import nltk\n",
    "\n"
   ]
  },
  {
   "cell_type": "code",
   "execution_count": 5,
   "metadata": {},
   "outputs": [
    {
     "name": "stdout",
     "output_type": "stream",
     "text": [
      "BLEU-Werte wurden berechnet und gespeichert.\n"
     ]
    }
   ],
   "source": [
    "import pandas as pd\n",
    "import sacrebleu\n",
    "\n",
    "# Excel-Datei laden\n",
    "file_path = 'deepl.xlsx'\n",
    "df = pd.read_excel(file_path)\n",
    "\n",
    "# Funktion zur Berechnung der BLEU-Werte\n",
    "def calculate_bleu(reference, hypothesis):\n",
    "    # sacrebleu erwartet Strings, keine Token-Listen\n",
    "    bleu = sacrebleu.sentence_bleu(hypothesis, [reference])\n",
    "    return bleu.score\n",
    "\n",
    "# BLEU-Werte berechnen und in eine neue Spalte einfügen\n",
    "df['BLEU Score'] = df.apply(lambda row: calculate_bleu(row['Gold'], row['Test']), axis=1)\n",
    "\n",
    "# Aktualisierte Datei speichern\n",
    "df.to_excel('deepl_mit_BLEU.xlsx', index=False)\n",
    "\n",
    "print(\"BLEU-Werte wurden berechnet und gespeichert.\")\n"
   ]
  }
 ],
 "metadata": {
  "kernelspec": {
   "display_name": "Python 3",
   "language": "python",
   "name": "python3"
  },
  "language_info": {
   "codemirror_mode": {
    "name": "ipython",
    "version": 3
   },
   "file_extension": ".py",
   "mimetype": "text/x-python",
   "name": "python",
   "nbconvert_exporter": "python",
   "pygments_lexer": "ipython3",
   "version": "3.12.3"
  }
 },
 "nbformat": 4,
 "nbformat_minor": 2
}
